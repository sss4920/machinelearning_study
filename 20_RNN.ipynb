{
  "nbformat": 4,
  "nbformat_minor": 0,
  "metadata": {
    "colab": {
      "provenance": [],
      "gpuType": "T4",
      "authorship_tag": "ABX9TyO2EQ2xGHsUJBLTV6Rbh3bF",
      "include_colab_link": true
    },
    "kernelspec": {
      "name": "python3",
      "display_name": "Python 3"
    },
    "language_info": {
      "name": "python"
    },
    "accelerator": "TPU"
  },
  "cells": [
    {
      "cell_type": "markdown",
      "metadata": {
        "id": "view-in-github",
        "colab_type": "text"
      },
      "source": [
        "<a href=\"https://colab.research.google.com/github/sss4920/machinelearning_study/blob/main/20_RNN.ipynb\" target=\"_parent\"><img src=\"https://colab.research.google.com/assets/colab-badge.svg\" alt=\"Open In Colab\"/></a>"
      ]
    },
    {
      "cell_type": "code",
      "execution_count": null,
      "metadata": {
        "colab": {
          "base_uri": "https://localhost:8080/"
        },
        "id": "U9zJNMP1-MqO",
        "outputId": "54ec9583-4fc7-4015-9dcd-6acdc13dc763"
      },
      "outputs": [
        {
          "output_type": "stream",
          "name": "stdout",
          "text": [
            "Downloading data from https://storage.googleapis.com/tensorflow/tf-keras-datasets/imdb.npz\n",
            "17464789/17464789 [==============================] - 1s 0us/step\n"
          ]
        }
      ],
      "source": [
        "from tensorflow.keras.datasets import imdb\n",
        "(train_input, train_target), (test_input, test_target) = imdb.load_data(num_words=500)"
      ]
    },
    {
      "cell_type": "code",
      "source": [
        "print(train_input.shape, test_input.shape)"
      ],
      "metadata": {
        "colab": {
          "base_uri": "https://localhost:8080/"
        },
        "id": "GsFm0iEF-ky-",
        "outputId": "9d341a96-dfaf-4305-d388-8030f6d19e15"
      },
      "execution_count": null,
      "outputs": [
        {
          "output_type": "stream",
          "name": "stdout",
          "text": [
            "(25000,) (25000,)\n"
          ]
        }
      ]
    },
    {
      "cell_type": "code",
      "source": [
        "print(len(train_input[0]))"
      ],
      "metadata": {
        "colab": {
          "base_uri": "https://localhost:8080/"
        },
        "id": "6fm857EV-pee",
        "outputId": "637a7e3d-60a3-4440-bbb2-b48280c4ffbd"
      },
      "execution_count": null,
      "outputs": [
        {
          "output_type": "stream",
          "name": "stdout",
          "text": [
            "218\n"
          ]
        }
      ]
    },
    {
      "cell_type": "code",
      "source": [
        "print(len(train_input[1]))"
      ],
      "metadata": {
        "colab": {
          "base_uri": "https://localhost:8080/"
        },
        "id": "_RiXifY6-s4B",
        "outputId": "c85a78f8-0a93-4bc5-8327-a29a830a3358"
      },
      "execution_count": null,
      "outputs": [
        {
          "output_type": "stream",
          "name": "stdout",
          "text": [
            "189\n"
          ]
        }
      ]
    },
    {
      "cell_type": "code",
      "source": [
        "print(len(train_input[2]))"
      ],
      "metadata": {
        "colab": {
          "base_uri": "https://localhost:8080/"
        },
        "id": "4Bvsv2lc-wIb",
        "outputId": "33a26f7a-0f49-4245-f100-99729c29e315"
      },
      "execution_count": null,
      "outputs": [
        {
          "output_type": "stream",
          "name": "stdout",
          "text": [
            "141\n"
          ]
        }
      ]
    },
    {
      "cell_type": "code",
      "source": [
        "print(train_input[0])"
      ],
      "metadata": {
        "colab": {
          "base_uri": "https://localhost:8080/"
        },
        "id": "ebiy7_cc-yBa",
        "outputId": "ee075d87-f174-4b9a-b4f5-91b9550397f1"
      },
      "execution_count": null,
      "outputs": [
        {
          "output_type": "stream",
          "name": "stdout",
          "text": [
            "[1, 14, 22, 16, 43, 2, 2, 2, 2, 65, 458, 2, 66, 2, 4, 173, 36, 256, 5, 25, 100, 43, 2, 112, 50, 2, 2, 9, 35, 480, 284, 5, 150, 4, 172, 112, 167, 2, 336, 385, 39, 4, 172, 2, 2, 17, 2, 38, 13, 447, 4, 192, 50, 16, 6, 147, 2, 19, 14, 22, 4, 2, 2, 469, 4, 22, 71, 87, 12, 16, 43, 2, 38, 76, 15, 13, 2, 4, 22, 17, 2, 17, 12, 16, 2, 18, 2, 5, 62, 386, 12, 8, 316, 8, 106, 5, 4, 2, 2, 16, 480, 66, 2, 33, 4, 130, 12, 16, 38, 2, 5, 25, 124, 51, 36, 135, 48, 25, 2, 33, 6, 22, 12, 215, 28, 77, 52, 5, 14, 407, 16, 82, 2, 8, 4, 107, 117, 2, 15, 256, 4, 2, 7, 2, 5, 2, 36, 71, 43, 2, 476, 26, 400, 317, 46, 7, 4, 2, 2, 13, 104, 88, 4, 381, 15, 297, 98, 32, 2, 56, 26, 141, 6, 194, 2, 18, 4, 226, 22, 21, 134, 476, 26, 480, 5, 144, 30, 2, 18, 51, 36, 28, 224, 92, 25, 104, 4, 226, 65, 16, 38, 2, 88, 12, 16, 283, 5, 16, 2, 113, 103, 32, 15, 16, 2, 19, 178, 32]\n"
          ]
        }
      ]
    },
    {
      "cell_type": "code",
      "source": [
        "print(train_target[:20])"
      ],
      "metadata": {
        "colab": {
          "base_uri": "https://localhost:8080/"
        },
        "id": "DmSFfc6e_wqP",
        "outputId": "54e16767-ed25-493f-a68a-97bd21b4babb"
      },
      "execution_count": null,
      "outputs": [
        {
          "output_type": "stream",
          "name": "stdout",
          "text": [
            "[1 0 0 1 0 0 1 0 1 0 1 0 0 0 0 0 1 1 0 1]\n"
          ]
        }
      ]
    },
    {
      "cell_type": "code",
      "source": [
        "from sklearn.model_selection import train_test_split\n",
        "train_input, val_input, train_target, val_target = train_test_split(train_input, train_target, test_size=0.2, random_state=42)"
      ],
      "metadata": {
        "id": "IKJDE6ZG_zkG"
      },
      "execution_count": null,
      "outputs": []
    },
    {
      "cell_type": "code",
      "source": [
        "import numpy as np\n",
        "lengths = np.array([len(x) for x in train_input])"
      ],
      "metadata": {
        "id": "K0LLPcX-Aa4J"
      },
      "execution_count": null,
      "outputs": []
    },
    {
      "cell_type": "code",
      "source": [
        "print(np.mean(lengths), np.median(lengths))"
      ],
      "metadata": {
        "id": "5KF0Xu_WAoR1",
        "colab": {
          "base_uri": "https://localhost:8080/"
        },
        "outputId": "e439c5d6-4f2f-4f0d-a3c6-ab252d090aa2"
      },
      "execution_count": null,
      "outputs": [
        {
          "output_type": "stream",
          "name": "stdout",
          "text": [
            "239.00925 178.0\n"
          ]
        }
      ]
    },
    {
      "cell_type": "code",
      "source": [
        "import matplotlib.pyplot as plt\n",
        "plt.hist(lengths)\n",
        "plt.xlabel('length')\n",
        "plt.ylabel('frequency')\n",
        "plt.show()"
      ],
      "metadata": {
        "colab": {
          "base_uri": "https://localhost:8080/",
          "height": 449
        },
        "id": "VbNi5YeM9Biw",
        "outputId": "40eb14a3-a536-4291-f459-bd3d1f2fe677"
      },
      "execution_count": null,
      "outputs": [
        {
          "output_type": "display_data",
          "data": {
            "text/plain": [
              "<Figure size 640x480 with 1 Axes>"
            ],
            "image/png": "[encoded data removed]"
          },
          "metadata": {}
        }
      ]
    },
    {
      "cell_type": "code",
      "source": [
        "from tensorflow.keras.preprocessing.sequence import pad_sequences\n",
        "\n",
        "train_seq = pad_sequences(train_input, maxlen=100)"
      ],
      "metadata": {
        "id": "4wlC1UiWBae9"
      },
      "execution_count": null,
      "outputs": []
    },
    {
      "cell_type": "code",
      "source": [
        "print(train_seq[0])"
      ],
      "metadata": {
        "colab": {
          "base_uri": "https://localhost:8080/"
        },
        "id": "QQ1kjWu5Bou7",
        "outputId": "638c8d04-e9f9-4032-aba1-0974c093b373"
      },
      "execution_count": null,
      "outputs": [
        {
          "output_type": "stream",
          "name": "stdout",
          "text": [
            "[ 10   4  20   9   2 364 352   5  45   6   2   2  33 269   8   2 142   2\n",
            "   5   2  17  73  17 204   5   2  19  55   2   2  92  66 104  14  20  93\n",
            "  76   2 151  33   4  58  12 188   2 151  12 215  69 224 142  73 237   6\n",
            "   2   7   2   2 188   2 103  14  31  10  10 451   7   2   5   2  80  91\n",
            "   2  30   2  34  14  20 151  50  26 131  49   2  84  46  50  37  80  79\n",
            "   6   2  46   7  14  20  10  10 470 158]\n"
          ]
        }
      ]
    },
    {
      "cell_type": "code",
      "source": [
        "print(train_seq.shape)"
      ],
      "metadata": {
        "colab": {
          "base_uri": "https://localhost:8080/"
        },
        "id": "TJgcGoYBBqYN",
        "outputId": "b70319c5-7f28-4690-edfe-bf6070db483a"
      },
      "execution_count": null,
      "outputs": [
        {
          "output_type": "stream",
          "name": "stdout",
          "text": [
            "(20000, 100)\n"
          ]
        }
      ]
    },
    {
      "cell_type": "code",
      "source": [
        "train_input[0][-10:]"
      ],
      "metadata": {
        "colab": {
          "base_uri": "https://localhost:8080/"
        },
        "id": "nR8GWOiABst0",
        "outputId": "a9b8a884-d97e-4cd7-c7c1-0636076826f8"
      },
      "execution_count": null,
      "outputs": [
        {
          "output_type": "execute_result",
          "data": {
            "text/plain": [
              "[6, 2, 46, 7, 14, 20, 10, 10, 470, 158]"
            ]
          },
          "metadata": {},
          "execution_count": 15
        }
      ]
    },
    {
      "cell_type": "code",
      "source": [
        "train_seq[5]"
      ],
      "metadata": {
        "colab": {
          "base_uri": "https://localhost:8080/"
        },
        "id": "ceHT3bl4B0Px",
        "outputId": "96d406c2-e596-4520-9b39-fd45736b910d"
      },
      "execution_count": null,
      "outputs": [
        {
          "output_type": "execute_result",
          "data": {
            "text/plain": [
              "array([  0,   0,   0,   0,   1,   2, 195,  19,  49,   2,   2, 190,   4,\n",
              "         2, 352,   2, 183,  10,  10,  13,  82,  79,   4,   2,  36,  71,\n",
              "       269,   8,   2,  25,  19,  49,   7,   4,   2,   2,   2,   2,   2,\n",
              "        10,  10,  48,  25,  40,   2,  11,   2,   2,  40,   2,   2,   5,\n",
              "         4,   2,   2,  95,  14, 238,  56, 129,   2,  10,  10,  21,   2,\n",
              "        94, 364, 352,   2,   2,  11, 190,  24, 484,   2,   7,  94, 205,\n",
              "       405,  10,  10,  87,   2,  34,  49,   2,   7,   2,   2,   2,   2,\n",
              "         2, 290,   2,  46,  48,  64,  18,   4,   2], dtype=int32)"
            ]
          },
          "metadata": {},
          "execution_count": 16
        }
      ]
    },
    {
      "cell_type": "code",
      "source": [
        "val_seq = pad_sequences(val_input, maxlen=100)"
      ],
      "metadata": {
        "id": "4fhC1ug19oHy"
      },
      "execution_count": null,
      "outputs": []
    },
    {
      "cell_type": "code",
      "source": [
        "from tensorflow import keras\n",
        "model = keras.Sequential()\n",
        "\n",
        "model.add(keras.layers.SimpleRNN(8, input_shape=(100,500)))\n",
        "model.add(keras.layers.Dense(1, activation='sigmoid'))\n",
        "train_oh = keras.utils.to_categorical(train_seq)\n",
        "train_oh.shape"
      ],
      "metadata": {
        "colab": {
          "base_uri": "https://localhost:8080/"
        },
        "id": "jlHGcgBFCC20",
        "outputId": "2611b2be-875a-45dd-cbfb-820afa892356"
      },
      "execution_count": null,
      "outputs": [
        {
          "output_type": "execute_result",
          "data": {
            "text/plain": [
              "(20000, 100, 500)"
            ]
          },
          "metadata": {},
          "execution_count": 18
        }
      ]
    },
    {
      "cell_type": "code",
      "source": [
        "train_oh[0][0][:12]"
      ],
      "metadata": {
        "colab": {
          "base_uri": "https://localhost:8080/"
        },
        "id": "WV2jXuNxDRnX",
        "outputId": "32cff027-cda4-4c1b-958a-e7e0fa033d5b"
      },
      "execution_count": null,
      "outputs": [
        {
          "output_type": "execute_result",
          "data": {
            "text/plain": [
              "array([0., 0., 0., 0., 0., 0., 0., 0., 0., 0., 1., 0.], dtype=float32)"
            ]
          },
          "metadata": {},
          "execution_count": 19
        }
      ]
    },
    {
      "cell_type": "code",
      "source": [
        "print(np.sum(train_oh[0][0]))"
      ],
      "metadata": {
        "colab": {
          "base_uri": "https://localhost:8080/"
        },
        "id": "pMOx-YLiDXzE",
        "outputId": "90a37cee-f40d-4657-eeef-c735f29b347d"
      },
      "execution_count": null,
      "outputs": [
        {
          "output_type": "stream",
          "name": "stdout",
          "text": [
            "1.0\n"
          ]
        }
      ]
    },
    {
      "cell_type": "code",
      "source": [
        "val_oh = keras.utils.to_categorical(val_seq)"
      ],
      "metadata": {
        "id": "H_2ht8dLDbum"
      },
      "execution_count": null,
      "outputs": []
    },
    {
      "cell_type": "code",
      "source": [
        "model.summary()"
      ],
      "metadata": {
        "colab": {
          "base_uri": "https://localhost:8080/"
        },
        "id": "SEqym081-mgA",
        "outputId": "2c4b362d-7aed-43eb-ff79-3fa85f3fe47d"
      },
      "execution_count": null,
      "outputs": [
        {
          "output_type": "stream",
          "name": "stdout",
          "text": [
            "Model: \"sequential\"\n",
            "_________________________________________________________________\n",
            " Layer (type)                Output Shape              Param #   \n",
            "=================================================================\n",
            " simple_rnn (SimpleRNN)      (None, 8)                 4072      \n",
            "                                                                 \n",
            " dense (Dense)               (None, 1)                 9         \n",
            "                                                                 \n",
            "=================================================================\n",
            "Total params: 4,081\n",
            "Trainable params: 4,081\n",
            "Non-trainable params: 0\n",
            "_________________________________________________________________\n"
          ]
        }
      ]
    },
    {
      "cell_type": "code",
      "source": [
        "# model = keras.Sequential() \n",
        "# model.add(keras.layers.SimpleRNN(8, input_shape=(100, 500))) # 하나의 단어를 500으로 쪼개 100번의 시도끝에..ㅠㅠ\n",
        "# model.add(keras.layers.Dense(1, activation='sigmoid'))"
      ],
      "metadata": {
        "id": "JMSn3_D7D8Nk"
      },
      "execution_count": null,
      "outputs": []
    },
    {
      "cell_type": "code",
      "source": [
        "rmsprop = keras.optimizers.RMSprop(learning_rate = 1e-4)\n",
        "model.compile(optimizer=rmsprop, loss='binary_crossentropy', metrics=['accuracy'])\n",
        "checkpoint_cb = keras.callbacks.ModelCheckpoint('best-simplernn-model.h5', save_best_only=True)\n",
        "early_stopping_cb = keras.callbacks.EarlyStopping(patience=3, restore_best_weights=True)\n",
        "history = model.fit(train_oh, train_target, epochs=100, batch_size=64, validation_data = (val_oh, val_target), callbacks=[checkpoint_cb, early_stopping_cb])"
      ],
      "metadata": {
        "id": "QOU4f4BiEcnd",
        "colab": {
          "base_uri": "https://localhost:8080/"
        },
        "outputId": "2e36a862-999d-4985-ea98-dbe14822cb3b"
      },
      "execution_count": null,
      "outputs": [
        {
          "output_type": "stream",
          "name": "stdout",
          "text": [
            "Epoch 1/100\n",
            "313/313 [==============================] - 20s 59ms/step - loss: 0.6928 - accuracy: 0.5161 - val_loss: 0.6908 - val_accuracy: 0.5310\n",
            "Epoch 2/100\n",
            "313/313 [==============================] - 16s 51ms/step - loss: 0.6862 - accuracy: 0.5463 - val_loss: 0.6823 - val_accuracy: 0.5614\n",
            "Epoch 3/100\n",
            "313/313 [==============================] - 15s 48ms/step - loss: 0.6736 - accuracy: 0.5994 - val_loss: 0.6679 - val_accuracy: 0.6116\n",
            "Epoch 4/100\n",
            "313/313 [==============================] - 15s 47ms/step - loss: 0.6568 - accuracy: 0.6367 - val_loss: 0.6512 - val_accuracy: 0.6400\n",
            "Epoch 5/100\n",
            "313/313 [==============================] - 16s 51ms/step - loss: 0.6394 - accuracy: 0.6635 - val_loss: 0.6350 - val_accuracy: 0.6640\n",
            "Epoch 6/100\n",
            "313/313 [==============================] - 16s 50ms/step - loss: 0.6226 - accuracy: 0.6857 - val_loss: 0.6169 - val_accuracy: 0.6820\n",
            "Epoch 7/100\n",
            "313/313 [==============================] - 15s 48ms/step - loss: 0.6065 - accuracy: 0.6988 - val_loss: 0.6032 - val_accuracy: 0.6960\n",
            "Epoch 8/100\n",
            "313/313 [==============================] - 14s 45ms/step - loss: 0.5925 - accuracy: 0.7082 - val_loss: 0.5901 - val_accuracy: 0.7100\n",
            "Epoch 9/100\n",
            "313/313 [==============================] - 14s 45ms/step - loss: 0.5789 - accuracy: 0.7163 - val_loss: 0.5775 - val_accuracy: 0.7182\n",
            "Epoch 10/100\n",
            "313/313 [==============================] - 14s 44ms/step - loss: 0.5657 - accuracy: 0.7280 - val_loss: 0.5653 - val_accuracy: 0.7274\n",
            "Epoch 11/100\n",
            "313/313 [==============================] - 14s 44ms/step - loss: 0.5542 - accuracy: 0.7363 - val_loss: 0.5573 - val_accuracy: 0.7334\n",
            "Epoch 12/100\n",
            "313/313 [==============================] - 14s 44ms/step - loss: 0.5438 - accuracy: 0.7441 - val_loss: 0.5451 - val_accuracy: 0.7392\n",
            "Epoch 13/100\n",
            "313/313 [==============================] - 15s 48ms/step - loss: 0.5344 - accuracy: 0.7510 - val_loss: 0.5365 - val_accuracy: 0.7454\n",
            "Epoch 14/100\n",
            "313/313 [==============================] - 15s 48ms/step - loss: 0.5237 - accuracy: 0.7569 - val_loss: 0.5288 - val_accuracy: 0.7492\n",
            "Epoch 15/100\n",
            "313/313 [==============================] - 14s 44ms/step - loss: 0.5155 - accuracy: 0.7627 - val_loss: 0.5228 - val_accuracy: 0.7544\n",
            "Epoch 16/100\n",
            "313/313 [==============================] - 15s 48ms/step - loss: 0.5065 - accuracy: 0.7673 - val_loss: 0.5153 - val_accuracy: 0.7570\n",
            "Epoch 17/100\n",
            "313/313 [==============================] - 15s 48ms/step - loss: 0.5000 - accuracy: 0.7717 - val_loss: 0.5095 - val_accuracy: 0.7586\n",
            "Epoch 18/100\n",
            "313/313 [==============================] - 15s 48ms/step - loss: 0.4920 - accuracy: 0.7759 - val_loss: 0.5058 - val_accuracy: 0.7638\n",
            "Epoch 19/100\n",
            "313/313 [==============================] - 14s 44ms/step - loss: 0.4853 - accuracy: 0.7803 - val_loss: 0.5071 - val_accuracy: 0.7576\n",
            "Epoch 20/100\n",
            "313/313 [==============================] - 14s 44ms/step - loss: 0.4787 - accuracy: 0.7842 - val_loss: 0.4986 - val_accuracy: 0.7648\n",
            "Epoch 21/100\n",
            "313/313 [==============================] - 14s 44ms/step - loss: 0.4734 - accuracy: 0.7870 - val_loss: 0.4966 - val_accuracy: 0.7666\n",
            "Epoch 22/100\n",
            "313/313 [==============================] - 15s 48ms/step - loss: 0.4678 - accuracy: 0.7906 - val_loss: 0.4910 - val_accuracy: 0.7658\n",
            "Epoch 23/100\n",
            "313/313 [==============================] - 15s 48ms/step - loss: 0.4617 - accuracy: 0.7947 - val_loss: 0.4899 - val_accuracy: 0.7682\n",
            "Epoch 24/100\n",
            "313/313 [==============================] - 15s 48ms/step - loss: 0.4575 - accuracy: 0.7951 - val_loss: 0.4837 - val_accuracy: 0.7736\n",
            "Epoch 25/100\n",
            "313/313 [==============================] - 15s 48ms/step - loss: 0.4540 - accuracy: 0.7994 - val_loss: 0.4815 - val_accuracy: 0.7746\n",
            "Epoch 26/100\n",
            "313/313 [==============================] - 15s 48ms/step - loss: 0.4496 - accuracy: 0.8012 - val_loss: 0.4810 - val_accuracy: 0.7740\n",
            "Epoch 27/100\n",
            "313/313 [==============================] - 14s 44ms/step - loss: 0.4460 - accuracy: 0.8026 - val_loss: 0.4768 - val_accuracy: 0.7738\n",
            "Epoch 28/100\n",
            "313/313 [==============================] - 15s 47ms/step - loss: 0.4422 - accuracy: 0.8055 - val_loss: 0.4777 - val_accuracy: 0.7748\n",
            "Epoch 29/100\n",
            "313/313 [==============================] - 15s 48ms/step - loss: 0.4388 - accuracy: 0.8055 - val_loss: 0.4787 - val_accuracy: 0.7744\n",
            "Epoch 30/100\n",
            "313/313 [==============================] - 15s 48ms/step - loss: 0.4367 - accuracy: 0.8056 - val_loss: 0.4716 - val_accuracy: 0.7782\n",
            "Epoch 31/100\n",
            "313/313 [==============================] - 14s 44ms/step - loss: 0.4333 - accuracy: 0.8106 - val_loss: 0.4709 - val_accuracy: 0.7790\n",
            "Epoch 32/100\n",
            "313/313 [==============================] - 15s 47ms/step - loss: 0.4308 - accuracy: 0.8098 - val_loss: 0.4693 - val_accuracy: 0.7788\n",
            "Epoch 33/100\n",
            "313/313 [==============================] - 14s 44ms/step - loss: 0.4283 - accuracy: 0.8122 - val_loss: 0.4676 - val_accuracy: 0.7790\n",
            "Epoch 34/100\n",
            "313/313 [==============================] - 15s 48ms/step - loss: 0.4257 - accuracy: 0.8147 - val_loss: 0.4667 - val_accuracy: 0.7808\n",
            "Epoch 35/100\n",
            "313/313 [==============================] - 15s 46ms/step - loss: 0.4234 - accuracy: 0.8155 - val_loss: 0.4693 - val_accuracy: 0.7798\n",
            "Epoch 36/100\n",
            "313/313 [==============================] - 14s 44ms/step - loss: 0.4215 - accuracy: 0.8164 - val_loss: 0.4662 - val_accuracy: 0.7802\n",
            "Epoch 37/100\n",
            "313/313 [==============================] - 14s 45ms/step - loss: 0.4189 - accuracy: 0.8176 - val_loss: 0.4682 - val_accuracy: 0.7810\n",
            "Epoch 38/100\n",
            "313/313 [==============================] - 14s 44ms/step - loss: 0.4172 - accuracy: 0.8191 - val_loss: 0.4644 - val_accuracy: 0.7804\n",
            "Epoch 39/100\n",
            "313/313 [==============================] - 14s 44ms/step - loss: 0.4158 - accuracy: 0.8206 - val_loss: 0.4632 - val_accuracy: 0.7828\n",
            "Epoch 40/100\n",
            "313/313 [==============================] - 14s 44ms/step - loss: 0.4132 - accuracy: 0.8199 - val_loss: 0.4641 - val_accuracy: 0.7832\n",
            "Epoch 41/100\n",
            "313/313 [==============================] - 15s 48ms/step - loss: 0.4122 - accuracy: 0.8206 - val_loss: 0.4658 - val_accuracy: 0.7850\n",
            "Epoch 42/100\n",
            "313/313 [==============================] - 14s 44ms/step - loss: 0.4104 - accuracy: 0.8233 - val_loss: 0.4636 - val_accuracy: 0.7824\n"
          ]
        }
      ]
    },
    {
      "cell_type": "code",
      "source": [
        "plt.plot(history.history['loss'])\n",
        "plt.plot(history.history['val_loss'])\n",
        "plt.xlabel('epoch')\n",
        "plt.ylabel('loss')\n",
        "plt.legend(['train', 'val'])\n",
        "plt.show()"
      ],
      "metadata": {
        "colab": {
          "base_uri": "https://localhost:8080/",
          "height": 449
        },
        "id": "Er513V1a_jQG",
        "outputId": "93db4e1d-c38e-49c4-afb6-da3ec34f3213"
      },
      "execution_count": null,
      "outputs": [
        {
          "output_type": "display_data",
          "data": {
            "text/plain": [
              "<Figure size 640x480 with 1 Axes>"
            ],
            "image/png": "[encoded data removed]"
          },
          "metadata": {}
        }
      ]
    },
    {
      "cell_type": "code",
      "source": [
        "model2 = keras.Sequential()\n",
        "model2.add(keras.layers.Embedding(500, 16, input_length=100))\n",
        "model2.add(keras.layers.SimpleRNN(8))\n",
        "model2.add(keras.layers.Dense(1, activation='sigmoid'))\n",
        "model2.summary()"
      ],
      "metadata": {
        "id": "eXvyt5B9HgZX",
        "colab": {
          "base_uri": "https://localhost:8080/"
        },
        "outputId": "7a9c79d9-e2de-416d-dd5e-1efdc6f15e9a"
      },
      "execution_count": null,
      "outputs": [
        {
          "output_type": "stream",
          "name": "stdout",
          "text": [
            "Model: \"sequential_1\"\n",
            "_________________________________________________________________\n",
            " Layer (type)                Output Shape              Param #   \n",
            "=================================================================\n",
            " embedding (Embedding)       (None, 100, 16)           8000      \n",
            "                                                                 \n",
            " simple_rnn_1 (SimpleRNN)    (None, 8)                 200       \n",
            "                                                                 \n",
            " dense_1 (Dense)             (None, 1)                 9         \n",
            "                                                                 \n",
            "=================================================================\n",
            "Total params: 8,209\n",
            "Trainable params: 8,209\n",
            "Non-trainable params: 0\n",
            "_________________________________________________________________\n"
          ]
        }
      ]
    },
    {
      "cell_type": "code",
      "source": [
        "rmsprop = keras.optimizers.RMSprop(learning_rate = 1e-4)\n",
        "model2.compile(optimizer=rmsprop, loss='binary_crossentropy', metrics=['accuracy'])\n",
        "checkpoint_cb = keras.callbacks.ModelCheckpoint('best-simplernn-model.h5', save_best_only=True)\n",
        "early_stopping_cb = keras.callbacks.EarlyStopping(patience=3, restore_best_weights=True)\n",
        "history = model2.fit(train_seq, train_target, epochs=100, batch_size=64, validation_data = (val_seq, val_target), callbacks=[checkpoint_cb, early_stopping_cb])"
      ],
      "metadata": {
        "colab": {
          "base_uri": "https://localhost:8080/"
        },
        "id": "S7NwR4C9_9bU",
        "outputId": "75839e31-77b8-4468-c60c-5212433d60cb"
      },
      "execution_count": null,
      "outputs": [
        {
          "output_type": "stream",
          "name": "stdout",
          "text": [
            "Epoch 1/100\n",
            "313/313 [==============================] - 14s 42ms/step - loss: 0.6978 - accuracy: 0.4951 - val_loss: 0.6954 - val_accuracy: 0.4976\n",
            "Epoch 2/100\n",
            "313/313 [==============================] - 11s 35ms/step - loss: 0.6932 - accuracy: 0.5146 - val_loss: 0.6933 - val_accuracy: 0.5074\n",
            "Epoch 3/100\n",
            "313/313 [==============================] - 7s 24ms/step - loss: 0.6898 - accuracy: 0.5335 - val_loss: 0.6918 - val_accuracy: 0.5170\n",
            "Epoch 4/100\n",
            "313/313 [==============================] - 8s 27ms/step - loss: 0.6868 - accuracy: 0.5493 - val_loss: 0.6907 - val_accuracy: 0.5256\n",
            "Epoch 5/100\n",
            "313/313 [==============================] - 9s 28ms/step - loss: 0.6836 - accuracy: 0.5622 - val_loss: 0.6899 - val_accuracy: 0.5316\n",
            "Epoch 6/100\n",
            "313/313 [==============================] - 7s 24ms/step - loss: 0.6804 - accuracy: 0.5728 - val_loss: 0.6895 - val_accuracy: 0.5360\n",
            "Epoch 7/100\n",
            "313/313 [==============================] - 9s 28ms/step - loss: 0.6770 - accuracy: 0.5818 - val_loss: 0.6888 - val_accuracy: 0.5352\n",
            "Epoch 8/100\n",
            "313/313 [==============================] - 9s 28ms/step - loss: 0.6736 - accuracy: 0.5894 - val_loss: 0.6886 - val_accuracy: 0.5316\n",
            "Epoch 9/100\n",
            "313/313 [==============================] - 7s 23ms/step - loss: 0.6700 - accuracy: 0.5976 - val_loss: 0.6881 - val_accuracy: 0.5342\n",
            "Epoch 10/100\n",
            "313/313 [==============================] - 9s 28ms/step - loss: 0.6663 - accuracy: 0.6039 - val_loss: 0.6876 - val_accuracy: 0.5338\n",
            "Epoch 11/100\n",
            "313/313 [==============================] - 8s 26ms/step - loss: 0.6626 - accuracy: 0.6113 - val_loss: 0.6872 - val_accuracy: 0.5340\n",
            "Epoch 12/100\n",
            "313/313 [==============================] - 9s 27ms/step - loss: 0.6589 - accuracy: 0.6172 - val_loss: 0.6874 - val_accuracy: 0.5328\n",
            "Epoch 13/100\n",
            "313/313 [==============================] - 9s 28ms/step - loss: 0.6551 - accuracy: 0.6276 - val_loss: 0.6872 - val_accuracy: 0.5324\n",
            "Epoch 14/100\n",
            "313/313 [==============================] - 8s 26ms/step - loss: 0.6513 - accuracy: 0.6317 - val_loss: 0.6869 - val_accuracy: 0.5396\n",
            "Epoch 15/100\n",
            "313/313 [==============================] - 8s 26ms/step - loss: 0.6477 - accuracy: 0.6356 - val_loss: 0.6863 - val_accuracy: 0.5368\n",
            "Epoch 16/100\n",
            "313/313 [==============================] - 9s 28ms/step - loss: 0.6439 - accuracy: 0.6412 - val_loss: 0.6875 - val_accuracy: 0.5402\n",
            "Epoch 17/100\n",
            "313/313 [==============================] - 7s 24ms/step - loss: 0.6402 - accuracy: 0.6447 - val_loss: 0.6863 - val_accuracy: 0.5378\n",
            "Epoch 18/100\n",
            "313/313 [==============================] - 9s 28ms/step - loss: 0.6366 - accuracy: 0.6482 - val_loss: 0.6861 - val_accuracy: 0.5460\n",
            "Epoch 19/100\n",
            "313/313 [==============================] - 9s 28ms/step - loss: 0.6331 - accuracy: 0.6556 - val_loss: 0.6858 - val_accuracy: 0.5466\n",
            "Epoch 20/100\n",
            "313/313 [==============================] - 7s 24ms/step - loss: 0.6294 - accuracy: 0.6567 - val_loss: 0.6852 - val_accuracy: 0.5478\n",
            "Epoch 21/100\n",
            "313/313 [==============================] - 9s 28ms/step - loss: 0.6260 - accuracy: 0.6600 - val_loss: 0.6855 - val_accuracy: 0.5520\n",
            "Epoch 22/100\n",
            "313/313 [==============================] - 9s 28ms/step - loss: 0.6223 - accuracy: 0.6655 - val_loss: 0.6846 - val_accuracy: 0.5526\n",
            "Epoch 23/100\n",
            "313/313 [==============================] - 7s 24ms/step - loss: 0.6191 - accuracy: 0.6717 - val_loss: 0.6850 - val_accuracy: 0.5534\n",
            "Epoch 24/100\n",
            "313/313 [==============================] - 9s 28ms/step - loss: 0.6157 - accuracy: 0.6737 - val_loss: 0.6843 - val_accuracy: 0.5544\n",
            "Epoch 25/100\n",
            "313/313 [==============================] - 8s 25ms/step - loss: 0.6118 - accuracy: 0.6798 - val_loss: 0.6849 - val_accuracy: 0.5572\n",
            "Epoch 26/100\n",
            "313/313 [==============================] - 8s 25ms/step - loss: 0.6084 - accuracy: 0.6831 - val_loss: 0.6835 - val_accuracy: 0.5548\n",
            "Epoch 27/100\n",
            "313/313 [==============================] - 9s 28ms/step - loss: 0.6050 - accuracy: 0.6857 - val_loss: 0.6848 - val_accuracy: 0.5588\n",
            "Epoch 28/100\n",
            "313/313 [==============================] - 7s 24ms/step - loss: 0.6015 - accuracy: 0.6910 - val_loss: 0.6841 - val_accuracy: 0.5632\n",
            "Epoch 29/100\n",
            "313/313 [==============================] - 9s 28ms/step - loss: 0.5981 - accuracy: 0.6940 - val_loss: 0.6842 - val_accuracy: 0.5658\n"
          ]
        }
      ]
    },
    {
      "cell_type": "code",
      "source": [
        "plt.plot(history.history['loss'])\n",
        "plt.plot(history.history['val_loss'])\n",
        "plt.xlabel('epoch')\n",
        "plt.ylabel('loss')\n",
        "plt.legend(['train', 'val'])\n",
        "plt.show()"
      ],
      "metadata": {
        "colab": {
          "base_uri": "https://localhost:8080/",
          "height": 449
        },
        "id": "lI6QwiMIATba",
        "outputId": "9f06c1e7-9893-4b9d-fdcd-9d9a488d0cff"
      },
      "execution_count": null,
      "outputs": [
        {
          "output_type": "display_data",
          "data": {
            "text/plain": [
              "<Figure size 640x480 with 1 Axes>"
            ],
            "image/png": "[encoded data removed]"
          },
          "metadata": {}
        }
      ]
    }
  ]
}